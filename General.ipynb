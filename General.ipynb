{
 "cells": [
  {
   "cell_type": "code",
   "execution_count": 43,
   "metadata": {},
   "outputs": [],
   "source": [
    "# Importar librerías necesarias\n",
    "import pandas as pd\n",
    "import numpy as np\n",
    "import matplotlib.pyplot as plt\n",
    "import seaborn as sns\n",
    "\n",
    "# Configurar estilo de gráficos\n",
    "sns.set_style(\"whitegrid\")\n",
    "sns.set_palette(\"viridis\")\n",
    "\n",
    "# Cargar los datos\n",
    "file_path = \"Respuestas.xlsx\"  # Ruta del archivo\n",
    "df = pd.read_excel(file_path, sheet_name=\"Respuestas de formulario 1\")\n",
    "\n"
   ]
  },
  {
   "cell_type": "markdown",
   "metadata": {},
   "source": [
    "### **Explicación**\n",
    "1. **Importación de librerías:**  \n",
    "   - `pandas`: Para manipular y analizar datos tabulares.  \n",
    "   - `numpy`: Para cálculos matemáticos y estadísticos avanzados.  \n",
    "   - `matplotlib` y `seaborn`: Para la creación y personalización de gráficos.  \n",
    "\n",
    "2. **Estilo de gráficos:**  \n",
    "   Configuramos los gráficos con un diseño limpio y una paleta de colores agradable para facilitar la interpretación visual de los resultados.\n",
    "\n",
    "3. **Carga de datos:**  \n",
    "   Se utiliza la función `pd.read_excel` para leer el archivo **`Respuestas.xlsx`**, seleccionando la hoja específica `Respuestas de formulario 1`.  \n",
    "\n",
    "4. **Verificación:**  \n",
    "   Visualizamos las primeras filas del DataFrame con `df.head()` para asegurarnos de que los datos se cargaron correctamente.\n"
   ]
  },
  {
   "cell_type": "code",
   "execution_count": 44,
   "metadata": {},
   "outputs": [
    {
     "name": "stdout",
     "output_type": "stream",
     "text": [
      "La probabilidad de que un estudiante bastante actualizado pertenezca a 'Desarrollo y Gestión de Software' es: 25.00%\n"
     ]
    }
   ],
   "source": [
    "# Filtrar datos necesarios\n",
    "actualizados_bastante = df[df['¿Qué tan actualizado(a) te consideras en las nuevas tecnologías de sistemas computacionales? '] == 'Bastante']\n",
    "gestion_software = df[df['Carrera'] == 'Licenciatura en Desarrollo y Gestión del Software']\n",
    "\n",
    "# Calcular P(A): Proporción de estudiantes en \"Desarrollo y Gestión de Software\"\n",
    "p_a = len(gestion_software) / len(df)\n",
    "\n",
    "# Calcular P(B): Proporción de estudiantes bastante actualizados\n",
    "p_b = len(actualizados_bastante) / len(df)\n",
    "\n",
    "# Calcular P(B|A): Proporción de estudiantes bastante actualizados en \"Desarrollo y Gestión de Software\"\n",
    "p_b_given_a = len(actualizados_bastante[actualizados_bastante['Carrera'] == 'Licenciatura en Desarrollo y Gestión del Software']) / len(gestion_software)\n",
    "\n",
    "# Aplicar Teorema de Bayes\n",
    "p_a_given_b = (p_b_given_a * p_a) / p_b\n",
    "\n",
    "# Mostrar resultado\n",
    "print(f\"La probabilidad de que un estudiante bastante actualizado pertenezca a 'Desarrollo y Gestión de Software' es: {p_a_given_b:.2%}\")\n"
   ]
  },
  {
   "cell_type": "markdown",
   "metadata": {},
   "source": [
    "## **Problema 1: Cálculo de la Media de las Edades**\n",
    "\n",
    "### Descripción:\n",
    "Calculamos la media de las edades de los participantes en la encuesta. La media es una medida de tendencia central que representa el promedio de los datos."
   ]
  },
  {
   "cell_type": "code",
   "execution_count": 45,
   "metadata": {},
   "outputs": [
    {
     "name": "stdout",
     "output_type": "stream",
     "text": [
      "La media de las edades es: 24.37\n"
     ]
    }
   ],
   "source": [
    "# Cálculo de la media\n",
    "media_edad = df['Edad'].mean()\n",
    "\n",
    "# Mostrar resultado\n",
    "print(f\"La media de las edades es: {media_edad:.2f}\")"
   ]
  },
  {
   "cell_type": "markdown",
   "metadata": {},
   "source": [
    "### **Explicación de la Respuesta:**\n",
    "La media calculada nos indica que, en promedio, los participantes de la encuesta tienen una edad de **`24.37 años`**. Este valor resume los datos y es útil para entender la tendencia central.\n",
    "\n",
    "---\n",
    "\n",
    "## **Problema 2: Construcción de una Tabla de Frecuencia**\n",
    "\n",
    "### Descripción:\n",
    "Creamos una tabla de frecuencia agrupada para las edades, que incluye:\n",
    "- Intervalos de clase\n",
    "- Frecuencia absoluta (\\(f\\))\n",
    "- Frecuencia relativa (\\(fr\\))\n",
    "- Frecuencia acumulada (\\(F\\))\n",
    "\n",
    "---\n"
   ]
  },
  {
   "cell_type": "code",
   "execution_count": 46,
   "metadata": {},
   "outputs": [
    {
     "data": {
      "text/html": [
       "<div>\n",
       "<style scoped>\n",
       "    .dataframe tbody tr th:only-of-type {\n",
       "        vertical-align: middle;\n",
       "    }\n",
       "\n",
       "    .dataframe tbody tr th {\n",
       "        vertical-align: top;\n",
       "    }\n",
       "\n",
       "    .dataframe thead th {\n",
       "        text-align: right;\n",
       "    }\n",
       "</style>\n",
       "<table border=\"1\" class=\"dataframe\">\n",
       "  <thead>\n",
       "    <tr style=\"text-align: right;\">\n",
       "      <th></th>\n",
       "      <th>f</th>\n",
       "      <th>fr</th>\n",
       "      <th>F</th>\n",
       "    </tr>\n",
       "    <tr>\n",
       "      <th>Edad</th>\n",
       "      <th></th>\n",
       "      <th></th>\n",
       "      <th></th>\n",
       "    </tr>\n",
       "  </thead>\n",
       "  <tbody>\n",
       "    <tr>\n",
       "      <th>(20, 25]</th>\n",
       "      <td>7</td>\n",
       "      <td>0.233333</td>\n",
       "      <td>7</td>\n",
       "    </tr>\n",
       "    <tr>\n",
       "      <th>(25, 30]</th>\n",
       "      <td>6</td>\n",
       "      <td>0.200000</td>\n",
       "      <td>13</td>\n",
       "    </tr>\n",
       "    <tr>\n",
       "      <th>(30, 35]</th>\n",
       "      <td>4</td>\n",
       "      <td>0.133333</td>\n",
       "      <td>17</td>\n",
       "    </tr>\n",
       "    <tr>\n",
       "      <th>(35, 40]</th>\n",
       "      <td>0</td>\n",
       "      <td>0.000000</td>\n",
       "      <td>17</td>\n",
       "    </tr>\n",
       "    <tr>\n",
       "      <th>(40, 45]</th>\n",
       "      <td>1</td>\n",
       "      <td>0.033333</td>\n",
       "      <td>18</td>\n",
       "    </tr>\n",
       "  </tbody>\n",
       "</table>\n",
       "</div>"
      ],
      "text/plain": [
       "          f        fr   F\n",
       "Edad                     \n",
       "(20, 25]  7  0.233333   7\n",
       "(25, 30]  6  0.200000  13\n",
       "(30, 35]  4  0.133333  17\n",
       "(35, 40]  0  0.000000  17\n",
       "(40, 45]  1  0.033333  18"
      ]
     },
     "execution_count": 46,
     "metadata": {},
     "output_type": "execute_result"
    }
   ],
   "source": [
    "# Crear intervalos para las edades\n",
    "bin_edges = [20, 25, 30, 35, 40, 45]  \n",
    "bins = pd.cut(df['Edad'], bins=bin_edges)\n",
    "\n",
    "# Crear la tabla de frecuencia\n",
    "tabla_frecuencia = df['Edad'].groupby(bins, observed=False).agg([\n",
    "    ('f', 'count'),  # Frecuencia absoluta\n",
    "])\n",
    "tabla_frecuencia['fr'] = tabla_frecuencia['f'] / len(df)  # Frecuencia relativa\n",
    "tabla_frecuencia['F'] = tabla_frecuencia['f'].cumsum()  # Frecuencia acumulada\n",
    "\n",
    "# Mostrar la tabla\n",
    "tabla_frecuencia\n"
   ]
  },
  {
   "cell_type": "markdown",
   "metadata": {},
   "source": [
    "### **Explicación de la Respuesta:**\n",
    "La tabla de frecuencia nos permite visualizar la distribución de edades en intervalos definidos. Esto es útil para identificar dónde se concentran los datos y analizar patrones en los rangos de edad.\n",
    "\n",
    "---\n",
    "\n",
    "## **Problema 3: Cálculo de la Desviación Estándar de las Edades**\n",
    "\n",
    "### Descripción:\n",
    "La desviación estándar mide la dispersión de los datos respecto a la media. Una desviación estándar alta indica que los datos están más dispersos, mientras que una baja sugiere que están concentrados cerca de la media.\n",
    "\n",
    "---\n"
   ]
  },
  {
   "cell_type": "code",
   "execution_count": 47,
   "metadata": {},
   "outputs": [
    {
     "name": "stdout",
     "output_type": "stream",
     "text": [
      "La desviación estándar de las edades es: 5.72\n"
     ]
    }
   ],
   "source": [
    "# Cálculo de la desviación estándar\n",
    "desviacion_estandar = df['Edad'].std()\n",
    "\n",
    "# Mostrar resultado\n",
    "print(f\"La desviación estándar de las edades es: {desviacion_estandar:.2f}\")\n"
   ]
  },
  {
   "cell_type": "markdown",
   "metadata": {},
   "source": [
    "### **Explicación de la Respuesta:**\n",
    "La desviación estándar obtenida es de **`5.72 años`**, lo que indica cuánto se desvían las edades de los encuestados respecto a la media. Una baja desviación sugeriría que las edades son homogéneas, mientras que una alta sugiere mayor variabilidad.\n",
    "\n",
    "---\n",
    "\n",
    "## **Problema 4: Histograma de la Distribución de Edades**\n",
    "\n",
    "### Descripción:\n",
    "Construimos un histograma para visualizar la distribución de edades. Este gráfico muestra cómo se distribuyen los datos en diferentes intervalos.\n",
    "\n",
    "---\n"
   ]
  },
  {
   "cell_type": "code",
   "execution_count": 48,
   "metadata": {},
   "outputs": [
    {
     "data": {
      "image/png": "[encoded data removed]",
      "text/plain": [
       "<Figure size 800x600 with 1 Axes>"
      ]
     },
     "metadata": {},
     "output_type": "display_data"
    }
   ],
   "source": [
    "\n",
    "\n",
    "# Crear histograma\n",
    "plt.figure(figsize=(8, 6))\n",
    "plt.hist(df['Edad'], bins=5, color='skyblue', edgecolor='black')\n",
    "plt.title(\"Distribución de Edades\", fontsize=16)\n",
    "plt.xlabel(\"Edad\", fontsize=12)\n",
    "plt.ylabel(\"Frecuencia\", fontsize=12)\n",
    "plt.grid(axis='y', linestyle='--', alpha=0.7)\n",
    "plt.tight_layout()\n",
    "plt.show()\n"
   ]
  },
  {
   "cell_type": "markdown",
   "metadata": {},
   "source": [
    "### **Explicación de la Respuesta:**\n",
    "El histograma muestra la distribución de las edades en la muestra. Podemos observar si las edades están concentradas en un rango específico o si están dispersas en todo el espectro analizado.\n",
    "\n",
    "---\n",
    "\n",
    "## **Problema 5: Análisis de Varianza (Varianza y Desviación Estándar)**\n",
    "\n",
    "### Descripción:\n",
    "En este problema, calculamos las medidas de dispersión de las edades de los encuestados, incluyendo:\n",
    "- **Varianza:** Mide la variabilidad de los datos respecto a la media.\n",
    "- **Desviación estándar:** Es la raíz cuadrada de la varianza y se interpreta en las mismas unidades que los datos originales.\n",
    "\n",
    "Estas medidas son útiles para entender qué tan dispersas están las edades de los participantes.\n",
    "\n",
    "---\n"
   ]
  },
  {
   "cell_type": "code",
   "execution_count": 49,
   "metadata": {},
   "outputs": [
    {
     "name": "stdout",
     "output_type": "stream",
     "text": [
      "Varianza Poblacional: 31.63\n",
      "Varianza Muestral: 32.72\n",
      "Desviación Estándar: 5.72\n"
     ]
    }
   ],
   "source": [
    "# Cálculo de la varianza y desviación estándar\n",
    "varianza_poblacional = df['Edad'].var(ddof=0)  # Varianza poblacional\n",
    "varianza_muestral = df['Edad'].var(ddof=1)  # Varianza muestral\n",
    "desviacion_estandar = df['Edad'].std()  # Desviación estándar\n",
    "\n",
    "# Mostrar los resultados\n",
    "print(f\"Varianza Poblacional: {varianza_poblacional:.2f}\")\n",
    "print(f\"Varianza Muestral: {varianza_muestral:.2f}\")\n",
    "print(f\"Desviación Estándar: {desviacion_estandar:.2f}\")\n"
   ]
  },
  {
   "cell_type": "markdown",
   "metadata": {},
   "source": [
    "### **Explicación de la Respuesta:**\n",
    "1. **Varianza Poblacional:**  \n",
    "   Calculada con \\( ddof=0 \\), considera todos los datos como una población. Representa la media de los cuadrados de las desviaciones respecto a la media.\n",
    "\n",
    "2. **Varianza Muestral:**  \n",
    "   Calculada con \\( ddof=1 \\), se utiliza para estimar la varianza de una población a partir de una muestra.\n",
    "\n",
    "3. **Desviación Estándar:**  \n",
    "   Es la raíz cuadrada de la varianza. En este caso, se interpreta en las mismas unidades que las edades (años), lo que facilita su comprensión.\n",
    "\n",
    "\n",
    "---\n",
    "## **Problema 6: Tablas de Frecuencia y Representación Gráfica**\n",
    "\n",
    "### Descripción:\n",
    "En este problema, generamos una tabla de frecuencia agrupada para la variable **Edad**. La tabla incluirá:\n",
    "- **Intervalos de clase:** Rango de valores agrupados.\n",
    "- **Frecuencia absoluta (\\(f\\)):** Número de participantes en cada intervalo.\n",
    "- **Frecuencia relativa (\\(fr\\)):** Porcentaje de participantes en cada intervalo.\n",
    "- **Frecuencia acumulada (\\(F\\)):** Suma acumulativa de las frecuencias absolutas.\n",
    "\n",
    "Finalmente, representamos estos datos mediante un histograma para visualizar la distribución.\n",
    "\n",
    "---\n",
    "\n"
   ]
  },
  {
   "cell_type": "code",
   "execution_count": 50,
   "metadata": {},
   "outputs": [
    {
     "data": {
      "text/html": [
       "<div>\n",
       "<style scoped>\n",
       "    .dataframe tbody tr th:only-of-type {\n",
       "        vertical-align: middle;\n",
       "    }\n",
       "\n",
       "    .dataframe tbody tr th {\n",
       "        vertical-align: top;\n",
       "    }\n",
       "\n",
       "    .dataframe thead th {\n",
       "        text-align: right;\n",
       "    }\n",
       "</style>\n",
       "<table border=\"1\" class=\"dataframe\">\n",
       "  <thead>\n",
       "    <tr style=\"text-align: right;\">\n",
       "      <th></th>\n",
       "      <th>Intervalos_Edad</th>\n",
       "      <th>f</th>\n",
       "      <th>fr</th>\n",
       "      <th>F</th>\n",
       "    </tr>\n",
       "  </thead>\n",
       "  <tbody>\n",
       "    <tr>\n",
       "      <th>0</th>\n",
       "      <td>20-25</td>\n",
       "      <td>14</td>\n",
       "      <td>0.466667</td>\n",
       "      <td>14</td>\n",
       "    </tr>\n",
       "    <tr>\n",
       "      <th>1</th>\n",
       "      <td>25-30</td>\n",
       "      <td>6</td>\n",
       "      <td>0.200000</td>\n",
       "      <td>20</td>\n",
       "    </tr>\n",
       "    <tr>\n",
       "      <th>2</th>\n",
       "      <td>30-35</td>\n",
       "      <td>4</td>\n",
       "      <td>0.133333</td>\n",
       "      <td>24</td>\n",
       "    </tr>\n",
       "    <tr>\n",
       "      <th>3</th>\n",
       "      <td>35-40</td>\n",
       "      <td>0</td>\n",
       "      <td>0.000000</td>\n",
       "      <td>24</td>\n",
       "    </tr>\n",
       "    <tr>\n",
       "      <th>4</th>\n",
       "      <td>40-45</td>\n",
       "      <td>1</td>\n",
       "      <td>0.033333</td>\n",
       "      <td>25</td>\n",
       "    </tr>\n",
       "  </tbody>\n",
       "</table>\n",
       "</div>"
      ],
      "text/plain": [
       "  Intervalos_Edad   f        fr   F\n",
       "0           20-25  14  0.466667  14\n",
       "1           25-30   6  0.200000  20\n",
       "2           30-35   4  0.133333  24\n",
       "3           35-40   0  0.000000  24\n",
       "4           40-45   1  0.033333  25"
      ]
     },
     "execution_count": 50,
     "metadata": {},
     "output_type": "execute_result"
    }
   ],
   "source": [
    "# Crear intervalos de clase para la edad\n",
    "bins = [20, 25, 30, 35, 40, 45]  # Ajustar límites según los datos\n",
    "labels = [\"20-25\", \"25-30\", \"30-35\", \"35-40\", \"40-45\"]  # Etiquetas de los intervalos\n",
    "df['Intervalos_Edad'] = pd.cut(df['Edad'], bins=bins, labels=labels, include_lowest=True)\n",
    "\n",
    "# Generar la tabla de frecuencia\n",
    "tabla_frecuencia = df['Intervalos_Edad'].value_counts(sort=False).to_frame(name='f')  # Frecuencia absoluta\n",
    "tabla_frecuencia['fr'] = tabla_frecuencia['f'] / len(df)  # Frecuencia relativa\n",
    "tabla_frecuencia['F'] = tabla_frecuencia['f'].cumsum()  # Frecuencia acumulada\n",
    "\n",
    "# Mostrar la tabla de frecuencia\n",
    "tabla_frecuencia.reset_index(inplace=True)\n",
    "tabla_frecuencia.rename(columns={'index': 'Intervalo'}, inplace=True)\n",
    "tabla_frecuencia\n"
   ]
  },
  {
   "cell_type": "markdown",
   "metadata": {},
   "source": [
    "### **Explicación de la Tabla de Frecuencia**\n",
    "1. **Frecuencia Absoluta (\\(f\\)):**  \n",
    "   Indica cuántos participantes caen dentro de cada intervalo de edad.\n",
    "\n",
    "2. **Frecuencia Relativa (\\(fr\\)):**  \n",
    "   Proporciona el porcentaje del total de participantes que pertenecen a cada intervalo.\n",
    "\n",
    "3. **Frecuencia Acumulada (\\(F\\)):**  \n",
    "   Suma las frecuencias absolutas de los intervalos hasta un punto dado, permitiendo analizar la acumulación de datos.\n",
    "\n",
    "La tabla ayuda a resumir la información y facilita su interpretación.\n",
    "\n",
    "### Descripción:\n",
    "Calculamos las medidas de **asimetría** y **curtosis** para analizar la distribución de edades:\n",
    "- **Asimetría:** Indica si los datos están simétricamente distribuidos o sesgados hacia un lado.\n",
    "- **Curtosis:** Evalúa si los datos tienen colas más largas o más cortas que una distribución normal.\n",
    "\n",
    "---\n",
    "\n",
    "\n"
   ]
  },
  {
   "cell_type": "code",
   "execution_count": 51,
   "metadata": {},
   "outputs": [
    {
     "name": "stdout",
     "output_type": "stream",
     "text": [
      "Asimetría: 1.31\n",
      "Curtosis: 1.65\n"
     ]
    }
   ],
   "source": [
    "# Calcular medidas de forma\n",
    "asimetria = df['Edad'].skew()  # Asimetría\n",
    "curtosis = df['Edad'].kurt()  # Curtosis\n",
    "\n",
    "# Mostrar resultados\n",
    "print(f\"Asimetría: {asimetria:.2f}\")\n",
    "print(f\"Curtosis: {curtosis:.2f}\")\n"
   ]
  },
  {
   "cell_type": "markdown",
   "metadata": {},
   "source": [
    "### **Explicación de la Respuesta:**\n",
    "1. **Asimetría:**  \n",
    "   - Un valor cercano a 0 indica que los datos son simétricos.\n",
    "   - Un valor positivo sugiere sesgo hacia la derecha, mientras que un valor negativo indica sesgo hacia la izquierda.\n",
    "\n",
    "2. **Curtosis:**  \n",
    "   - Una curtosis cercana a 3 indica una distribución normal.\n",
    "   - Un valor mayor indica colas largas (leptocúrtica) y uno menor colas cortas (platicúrtica).\n",
    "\n",
    "**Conclusión:** Estas medidas ayudan a interpretar la forma de la distribución de los datos y su desviación respecto a la normalidad.\n",
    "\n",
    "---\n",
    "\n",
    "## **Problema 8: Rango y Coeficiente de Variación**\n",
    "\n",
    "### Descripción:\n",
    "Calculamos el rango y el coeficiente de variación de las edades:\n",
    "- **Rango:** Diferencia entre el valor máximo y mínimo.\n",
    "- **Coeficiente de Variación (CV):** Mide la dispersión relativa respecto a la media.\n",
    "\n",
    "---\n"
   ]
  },
  {
   "cell_type": "code",
   "execution_count": 52,
   "metadata": {},
   "outputs": [
    {
     "name": "stdout",
     "output_type": "stream",
     "text": [
      "Rango: 23.00\n",
      "Coeficiente de Variación (CV): 23.48%\n"
     ]
    }
   ],
   "source": [
    "# Calcular rango y coeficiente de variación\n",
    "rango = df['Edad'].max() - df['Edad'].min()\n",
    "cv = df['Edad'].std() / df['Edad'].mean()\n",
    "\n",
    "# Mostrar resultados\n",
    "print(f\"Rango: {rango:.2f}\")\n",
    "print(f\"Coeficiente de Variación (CV): {cv:.2%}\")\n"
   ]
  },
  {
   "cell_type": "markdown",
   "metadata": {},
   "source": [
    "### **Explicación de la Respuesta:**\n",
    "1. **Rango:**  \n",
    "   Representa la amplitud de los datos, es decir, la diferencia entre el valor más alto y el más bajo.\n",
    "\n",
    "2. **Coeficiente de Variación (CV):**  \n",
    "   Es una medida de dispersión relativa (porcentaje). Un CV bajo indica que los datos están muy concentrados respecto a la media, mientras que un CV alto sugiere mayor dispersión.\n",
    "\n",
    "**Conclusión:** Estas medidas proporcionan información adicional sobre la variabilidad y amplitud de los datos.\n",
    "\n",
    "---\n",
    "\n",
    "## **Problema 9: Representación Gráfica de Datos**\n",
    "\n",
    "### Descripción:\n",
    "Creamos gráficos complementarios para visualizar los datos:\n",
    "1. **Diagrama de Caja y Bigotes (Boxplot):** Muestra los percentiles, valores extremos y posibles outliers.\n",
    "2. **Gráfico de Barras:** Compara las frecuencias absolutas de los intervalos de edad.\n",
    "\n",
    "---\n"
   ]
  },
  {
   "cell_type": "code",
   "execution_count": 53,
   "metadata": {},
   "outputs": [
    {
     "data": {
      "image/png": "[encoded data removed]",
      "text/plain": [
       "<Figure size 800x600 with 1 Axes>"
      ]
     },
     "metadata": {},
     "output_type": "display_data"
    }
   ],
   "source": [
    "# Crear diagrama de caja y bigotes\n",
    "plt.figure(figsize=(8, 6))\n",
    "sns.boxplot(y=df['Edad'], color='lightblue')\n",
    "plt.title(\"Diagrama de Caja y Bigotes: Edad\", fontsize=16)\n",
    "plt.ylabel(\"Edad\", fontsize=12)\n",
    "plt.grid(axis='x', linestyle='--', alpha=0.7)\n",
    "plt.tight_layout()\n",
    "plt.show()\n",
    "\n",
    "\n"
   ]
  },
  {
   "cell_type": "markdown",
   "metadata": {},
   "source": [
    "### **Explicación del Diagrama de Caja y Bigotes (Boxplot)**\n",
    "\n",
    "El **diagrama de caja y bigotes** representa la distribución de la variable **Edad** de los encuestados:\n",
    "\n",
    "1. **Caja central:**\n",
    "   - La parte central (rectángulo) muestra el rango intercuartil (IQR), que es la diferencia entre el tercer cuartil (Q3, límite superior de la caja) y el primer cuartil (Q1, límite inferior de la caja).\n",
    "   - La línea dentro de la caja representa la **mediana**.\n",
    "\n",
    "2. **Bigotes (líneas superiores e inferiores):**\n",
    "   - Los extremos de los bigotes indican los valores mínimo y máximo dentro de 1.5 veces el rango intercuartil desde Q1 y Q3.\n",
    "\n",
    "3. **Outlier (círculo fuera del rango):**\n",
    "   - El punto fuera del rango de los bigotes es un valor atípico, que está significativamente más alejado del resto de los datos.\n",
    "\n",
    "**Conclusión:**\n",
    "El boxplot muestra que la mayoría de los datos están concentrados entre 20 y 35 años. Sin embargo, existe al menos un valor extremo, representado por el punto superior (edad superior a 40 años).\n",
    "\n",
    "\n",
    "\n",
    "\n"
   ]
  }
 ],
 "metadata": {
  "kernelspec": {
   "display_name": "Python 3",
   "language": "python",
   "name": "python3"
  },
  "language_info": {
   "codemirror_mode": {
    "name": "ipython",
    "version": 3
   },
   "file_extension": ".py",
   "mimetype": "text/x-python",
   "name": "python",
   "nbconvert_exporter": "python",
   "pygments_lexer": "ipython3",
   "version": "3.13.0"
  }
 },
 "nbformat": 4,
 "nbformat_minor": 2
}
