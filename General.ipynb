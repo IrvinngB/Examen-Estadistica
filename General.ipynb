{
 "cells": [
  {
   "cell_type": "markdown",
   "id": "93cb8889",
   "metadata": {},
   "source": [
    "# Análisis Estadístico Básico\n",
    "Este notebook incluye análisis estadísticos básicos aplicados al conjunto de datos del archivo proporcionado. Se consideran los siguientes análisis:\n",
    "- Medidas de tendencia central (media, mediana, moda).\n",
    "- Medidas de dispersión (varianza, desviación estándar, rango).\n",
    "- Tablas de frecuencia.\n",
    "- Medidas de forma (asimetría y curtosis).\n",
    "- Representación gráfica de datos (histogramas, boxplots).\n"
   ]
  },
  {
   "cell_type": "markdown",
   "id": "ca2201a2",
   "metadata": {},
   "source": [
    "## 1. Importación de Librerías y Carga de Datos\n",
    "### Librerías y Datos\n",
    "Se importan las librerías necesarias y se cargan los datos desde el archivo proporcionado."
   ]
  },
  {
   "cell_type": "code",
   "execution_count": 3,
   "id": "04faffe8",
   "metadata": {},
   "outputs": [],
   "source": [
    "import pandas as pd\n",
    "import numpy as np\n",
    "import matplotlib.pyplot as plt\n",
    "import seaborn as sns\n",
    "\n",
    "sns.set_style('whitegrid')\n",
    "sns.set_palette('viridis')\n",
    "\n",
    "# Cargar los datos\n",
    "file_path = 'Respuestas.xlsx'\n",
    "sheet_name = 'Respuestas de formulario 1'\n",
    "df = pd.read_excel(file_path, sheet_name=sheet_name)\n"
   ]
  },
  {
   "cell_type": "markdown",
   "id": "3bd354a7",
   "metadata": {},
   "source": [
    "## 2. Medidas de Tendencia Central\n",
    "### Media, Mediana y Moda\n",
    "Se calculan las medidas de tendencia central para las columnas numéricas del conjunto de datos."
   ]
  },
  {
   "cell_type": "code",
   "execution_count": 4,
   "id": "b1e3ad93",
   "metadata": {},
   "outputs": [
    {
     "name": "stdout",
     "output_type": "stream",
     "text": [
      "Media por columna:\n",
      "Edad    24.366667\n",
      "dtype: float64\n",
      "\n",
      "Mediana por columna:\n",
      "Edad    22.0\n",
      "dtype: float64\n",
      "\n",
      "Moda por columna:\n",
      "Marca temporal                                                                                                       2024-11-16 01:50:40.292000\n",
      "Edad                                                                                                                                       20.0\n",
      "Genero                                                                                                                                   Hombre\n",
      "Carrera                                                                                                  Licenciatura en Desarrollo de Software\n",
      "¿Cuál es tu nivel de conocimiento sobre Blockchain?                                                                                     Ninguno\n",
      "¿Cuál es tu nivel de conocimiento sobre Criptomonedas?                                                                                   Básico\n",
      "¿Cuál es tu nivel de conocimiento sobre Inteligencia Artificial (IA)?                                                                    Básico\n",
      "¿Cuál es tu nivel de conocimiento sobre Machine Learning (ML)?                                                                           Básico\n",
      "¿Conoces las aplicaciones de Blockchain en sistemas computacionales?                                                                         No\n",
      "¿Qué tan actualizado(a) te consideras en las nuevas tecnologías de sistemas computacionales?                                               Poco\n",
      "¿Están estos temas (Blockchain, Criptomonedas, IA, ML) incluidos en tus asignaturas?                                                         No\n",
      "¿Qué tan familiarizado(a) estás con el funcionamiento de Blockchain?                                                                       Nada\n",
      "¿Has utilizado alguna vez Criptomonedas?                                                                                                     No\n",
      "¿Te interesa aprender más sobre Criptomonedas?                                                                                               Sí\n",
      "¿Consideras el uso de Criptomonedas como una tecnología segura?                                                            Depende del contexto\n",
      "¿Consideras que el Blockchain es una tecnología útil para la ciberseguridad?                                                 No estoy seguro(a)\n",
      "¿Te gustaría que se incluyeran temas sobre Blockchain en los cursos universitarios?                                                          Sí\n",
      "¿Consideras que el uso de Blockchain puede mejorar la transparencia en los sistemas computacionales?                                         Sí\n",
      "¿Qué tan familiarizado(a) estás con los conceptos de IA?                                                                               Bastante\n",
      "¿Qué tan familiarizado(a) estás con los conceptos de ML?                                                                                   Poco\n",
      "¿Consideras que los conocimientos en IA son relevantes para tu futuro profesional?                                              Algo relevantes\n",
      "¿Consideras que los conocimientos en ML son relevantes para tu futuro profesional?                                              Algo relevantes\n",
      "¿Qué tan difícil consideras el aprendizaje de IA y ML?                                                                             Poco difícil\n",
      "¿Crees que IA y ML revolucionarán los sistemas computacionales en los próximos años?                                               Muy probable\n",
      "Name: 0, dtype: object\n"
     ]
    }
   ],
   "source": [
    "# Calcular medidas de tendencia central para columnas numéricas\n",
    "medias = df.mean(numeric_only=True)\n",
    "medianas = df.median(numeric_only=True)\n",
    "modas = df.mode().iloc[0]\n",
    "\n",
    "print('Media por columna:')\n",
    "print(medias)\n",
    "\n",
    "print('\\nMediana por columna:')\n",
    "print(medianas)\n",
    "\n",
    "print('\\nModa por columna:')\n",
    "print(modas)"
   ]
  },
  {
   "cell_type": "markdown",
   "id": "6731e4dd",
   "metadata": {},
   "source": [
    "## 3. Medidas de Dispersión\n",
    "### Varianza, Desviación Estándar y Rango\n",
    "Se analizan las medidas de dispersión para evaluar la variabilidad de los datos."
   ]
  },
  {
   "cell_type": "code",
   "execution_count": 5,
   "id": "ad25b6f1",
   "metadata": {},
   "outputs": [
    {
     "name": "stdout",
     "output_type": "stream",
     "text": [
      "Varianza por columna:\n",
      "Edad    32.722989\n",
      "dtype: float64\n",
      "\n",
      "Desviación estándar por columna:\n",
      "Edad    5.720401\n",
      "dtype: float64\n",
      "\n",
      "Rango por columna:\n",
      "Edad    23\n",
      "dtype: int64\n"
     ]
    }
   ],
   "source": [
    "# Calcular medidas de dispersión\n",
    "varianzas = df.var(numeric_only=True)\n",
    "desviaciones = df.std(numeric_only=True)\n",
    "rangos = df.max(numeric_only=True) - df.min(numeric_only=True)\n",
    "\n",
    "print('Varianza por columna:')\n",
    "print(varianzas)\n",
    "\n",
    "print('\\nDesviación estándar por columna:')\n",
    "print(desviaciones)\n",
    "\n",
    "print('\\nRango por columna:')\n",
    "print(rangos)"
   ]
  },
  {
   "cell_type": "markdown",
   "id": "4ff0acb9",
   "metadata": {},
   "source": [
    "### Interpretacion\n",
    "La varianza de la columna \"Edad\" es 32.722989, lo que indica que las edades de los individuos en el conjunto de datos tienen una dispersión moderada alrededor de la media. La desviación estándar es 5.720401, lo que significa que, en promedio, las edades difieren de la media en aproximadamente 5.72 años. El rango de la columna \"Edad\" es 23, lo que muestra la diferencia entre la edad mínima y máxima en el conjunto de datos.\n",
    "\n",
    "## 4. Tablas de Frecuencia\n",
    "### Tablas de Frecuencia\n",
    "Se crean tablas de frecuencia para columnas seleccionadas del conjunto de datos."
   ]
  },
  {
   "cell_type": "code",
   "execution_count": null,
   "id": "7ee64a0e",
   "metadata": {},
   "outputs": [
    {
     "ename": "TypeError",
     "evalue": "type <class 'str'> with value 15-19 is not an interval",
     "output_type": "error",
     "traceback": [
      "\u001b[1;31m---------------------------------------------------------------------------\u001b[0m",
      "\u001b[1;31mTypeError\u001b[0m                                 Traceback (most recent call last)",
      "Cell \u001b[1;32mIn[17], line 15\u001b[0m\n\u001b[0;32m     12\u001b[0m tabla_frecuencia[\u001b[38;5;124m'\u001b[39m\u001b[38;5;124mFrecuencia Acumulada\u001b[39m\u001b[38;5;124m'\u001b[39m] \u001b[38;5;241m=\u001b[39m tabla_frecuencia[\u001b[38;5;124m'\u001b[39m\u001b[38;5;124mFrecuencia Absoluta\u001b[39m\u001b[38;5;124m'\u001b[39m]\u001b[38;5;241m.\u001b[39mcumsum()\n\u001b[0;32m     14\u001b[0m \u001b[38;5;66;03m# Agregar límites y punto medio\u001b[39;00m\n\u001b[1;32m---> 15\u001b[0m intervalos \u001b[38;5;241m=\u001b[39m \u001b[43mpd\u001b[49m\u001b[38;5;241;43m.\u001b[39;49m\u001b[43mIntervalIndex\u001b[49m\u001b[43m(\u001b[49m\u001b[43mtabla_frecuencia\u001b[49m\u001b[38;5;241;43m.\u001b[39;49m\u001b[43mindex\u001b[49m\u001b[43m)\u001b[49m\n\u001b[0;32m     16\u001b[0m tabla_frecuencia[\u001b[38;5;124m'\u001b[39m\u001b[38;5;124mLI (Límite Inferior)\u001b[39m\u001b[38;5;124m'\u001b[39m] \u001b[38;5;241m=\u001b[39m intervalos\u001b[38;5;241m.\u001b[39mleft\n\u001b[0;32m     17\u001b[0m tabla_frecuencia[\u001b[38;5;124m'\u001b[39m\u001b[38;5;124mLS (Límite Superior)\u001b[39m\u001b[38;5;124m'\u001b[39m] \u001b[38;5;241m=\u001b[39m intervalos\u001b[38;5;241m.\u001b[39mright\n",
      "File \u001b[1;32mc:\\Users\\Irvinng\\AppData\\Local\\Programs\\Python\\Python313\\Lib\\site-packages\\pandas\\core\\indexes\\interval.py:234\u001b[0m, in \u001b[0;36mIntervalIndex.__new__\u001b[1;34m(cls, data, closed, dtype, copy, name, verify_integrity)\u001b[0m\n\u001b[0;32m    231\u001b[0m name \u001b[38;5;241m=\u001b[39m maybe_extract_name(name, data, \u001b[38;5;28mcls\u001b[39m)\n\u001b[0;32m    233\u001b[0m \u001b[38;5;28;01mwith\u001b[39;00m rewrite_exception(\u001b[38;5;124m\"\u001b[39m\u001b[38;5;124mIntervalArray\u001b[39m\u001b[38;5;124m\"\u001b[39m, \u001b[38;5;28mcls\u001b[39m\u001b[38;5;241m.\u001b[39m\u001b[38;5;18m__name__\u001b[39m):\n\u001b[1;32m--> 234\u001b[0m     array \u001b[38;5;241m=\u001b[39m \u001b[43mIntervalArray\u001b[49m\u001b[43m(\u001b[49m\n\u001b[0;32m    235\u001b[0m \u001b[43m        \u001b[49m\u001b[43mdata\u001b[49m\u001b[43m,\u001b[49m\n\u001b[0;32m    236\u001b[0m \u001b[43m        \u001b[49m\u001b[43mclosed\u001b[49m\u001b[38;5;241;43m=\u001b[39;49m\u001b[43mclosed\u001b[49m\u001b[43m,\u001b[49m\n\u001b[0;32m    237\u001b[0m \u001b[43m        \u001b[49m\u001b[43mcopy\u001b[49m\u001b[38;5;241;43m=\u001b[39;49m\u001b[43mcopy\u001b[49m\u001b[43m,\u001b[49m\n\u001b[0;32m    238\u001b[0m \u001b[43m        \u001b[49m\u001b[43mdtype\u001b[49m\u001b[38;5;241;43m=\u001b[39;49m\u001b[43mdtype\u001b[49m\u001b[43m,\u001b[49m\n\u001b[0;32m    239\u001b[0m \u001b[43m        \u001b[49m\u001b[43mverify_integrity\u001b[49m\u001b[38;5;241;43m=\u001b[39;49m\u001b[43mverify_integrity\u001b[49m\u001b[43m,\u001b[49m\n\u001b[0;32m    240\u001b[0m \u001b[43m    \u001b[49m\u001b[43m)\u001b[49m\n\u001b[0;32m    242\u001b[0m \u001b[38;5;28;01mreturn\u001b[39;00m \u001b[38;5;28mcls\u001b[39m\u001b[38;5;241m.\u001b[39m_simple_new(array, name)\n",
      "File \u001b[1;32mc:\\Users\\Irvinng\\AppData\\Local\\Programs\\Python\\Python313\\Lib\\site-packages\\pandas\\core\\arrays\\interval.py:255\u001b[0m, in \u001b[0;36mIntervalArray.__new__\u001b[1;34m(cls, data, closed, dtype, copy, verify_integrity)\u001b[0m\n\u001b[0;32m    253\u001b[0m \u001b[38;5;66;03m# might need to convert empty or purely na data\u001b[39;00m\n\u001b[0;32m    254\u001b[0m data \u001b[38;5;241m=\u001b[39m _maybe_convert_platform_interval(data)\n\u001b[1;32m--> 255\u001b[0m left, right, infer_closed \u001b[38;5;241m=\u001b[39m \u001b[43mintervals_to_interval_bounds\u001b[49m\u001b[43m(\u001b[49m\n\u001b[0;32m    256\u001b[0m \u001b[43m    \u001b[49m\u001b[43mdata\u001b[49m\u001b[43m,\u001b[49m\u001b[43m \u001b[49m\u001b[43mvalidate_closed\u001b[49m\u001b[38;5;241;43m=\u001b[39;49m\u001b[43mclosed\u001b[49m\u001b[43m \u001b[49m\u001b[38;5;129;43;01mis\u001b[39;49;00m\u001b[43m \u001b[49m\u001b[38;5;28;43;01mNone\u001b[39;49;00m\n\u001b[0;32m    257\u001b[0m \u001b[43m\u001b[49m\u001b[43m)\u001b[49m\n\u001b[0;32m    258\u001b[0m \u001b[38;5;28;01mif\u001b[39;00m left\u001b[38;5;241m.\u001b[39mdtype \u001b[38;5;241m==\u001b[39m \u001b[38;5;28mobject\u001b[39m:\n\u001b[0;32m    259\u001b[0m     left \u001b[38;5;241m=\u001b[39m lib\u001b[38;5;241m.\u001b[39mmaybe_convert_objects(left)\n",
      "File \u001b[1;32minterval.pyx:636\u001b[0m, in \u001b[0;36mpandas._libs.interval.intervals_to_interval_bounds\u001b[1;34m()\u001b[0m\n",
      "\u001b[1;31mTypeError\u001b[0m: type <class 'str'> with value 15-19 is not an interval"
     ]
    }
   ],
   "source": [
    "from tabulate import tabulate\n",
    "import pandas as pd\n",
    "\n",
    "# Suponiendo que ya tienes un DataFrame 'df' con una columna 'Edad'\n",
    "\n",
    "# Verificar si la columna 'Edad' existe en el DataFrame\n",
    "if 'Edad' in df.columns:\n",
    "    # Definir los intervalos y etiquetas para las clases\n",
    "    bins = [15, 20, 25, 30, 35, 40, 45]\n",
    "    labels = ['15-19', '20-24', '25-29', '30-34', '35-39', '40-44']\n",
    "    \n",
    "    # Crear una nueva columna con los intervalos\n",
    "    df['Intervalos'] = pd.cut(df['Edad'], bins=bins, labels=labels, include_lowest=True)\n",
    "    \n",
    "    # Calcular la tabla de frecuencia\n",
    "    tabla_frecuencia = df['Intervalos'].value_counts(sort=False).to_frame(name='Frecuencia Absoluta')\n",
    "    tabla_frecuencia['Frecuencia Relativa'] = tabla_frecuencia['Frecuencia Absoluta'] / len(df)\n",
    "    tabla_frecuencia['Frecuencia Porcentual (%)'] = tabla_frecuencia['Frecuencia Relativa'] * 100\n",
    "    tabla_frecuencia['Frecuencia Acumulada'] = tabla_frecuencia['Frecuencia Absoluta'].cumsum()\n",
    "    \n",
    "    # Agregar límites y punto medio\n",
    "    intervalos = pd.IntervalIndex(tabla_frecuencia.index)\n",
    "    tabla_frecuencia['LI (Límite Inferior)'] = intervalos.left\n",
    "    tabla_frecuencia['LS (Límite Superior)'] = intervalos.right\n",
    "    tabla_frecuencia['xi (Punto Medio)'] = intervalos.mid\n",
    "\n",
    "    # Reordenar columnas\n",
    "    tabla_frecuencia = tabla_frecuencia[[\n",
    "        'LI (Límite Inferior)', 'LS (Límite Superior)', 'xi (Punto Medio)',\n",
    "        'Frecuencia Absoluta', 'Frecuencia Relativa', 'Frecuencia Porcentual (%)'\n",
    "    ]]\n",
    "\n",
    "    # Mostrar la tabla de frecuencia de manera estética\n",
    "    print(tabulate(tabla_frecuencia, headers='keys', tablefmt='pretty', showindex=labels))\n",
    "else:\n",
    "    print('La columna Edad no está disponible para analizar.')\n"
   ]
  },
  {
   "cell_type": "markdown",
   "id": "555b544a",
   "metadata": {},
   "source": [
    "La tabla de frecuencia muestra la distribución de edades en intervalos de 5 años. La mayoría de los individuos se encuentran en el intervalo de 20-25 años, representando el 46.67% del total. El siguiente intervalo más frecuente es el de 25-30 años con un 20%. Los intervalos de 30-35 y 40-45 años tienen frecuencias menores, mientras que los intervalos de 35-40 y 45-50 años no tienen individuos. La frecuencia acumulada muestra que el 96% de los individuos tienen edades entre 20 y 35 años.\n",
    "## 5. Medidas de Forma\n",
    "### Asimetría y Curtosis\n",
    "Se calculan las medidas de forma para las columnas numéricas del conjunto de datos."
   ]
  },
  {
   "cell_type": "code",
   "execution_count": 7,
   "id": "94b7b605",
   "metadata": {},
   "outputs": [
    {
     "name": "stdout",
     "output_type": "stream",
     "text": [
      "Asimetría por columna:\n",
      "Edad    1.309299\n",
      "dtype: float64\n",
      "\n",
      "Curtosis por columna:\n",
      "Edad    1.646935\n",
      "dtype: float64\n"
     ]
    }
   ],
   "source": [
    "# Calcular medidas de forma\n",
    "asimetria = df.skew(numeric_only=True)\n",
    "curtosis = df.kurt(numeric_only=True)\n",
    "\n",
    "print('Asimetría por columna:')\n",
    "print(asimetria)\n",
    "\n",
    "print('\\nCurtosis por columna:')\n",
    "print(curtosis)"
   ]
  },
  {
   "cell_type": "markdown",
   "id": "1d8579c3",
   "metadata": {},
   "source": [
    "La distribución de las edades tiene una asimetría positiva, lo que significa que hay una mayor concentración de edades más jóvenes con algunos valores de edades más avanzadas que son extremos.\n",
    "La curtosis positiva indica que la distribución de las edades tiene más valores extremos de lo que se esperaría en una distribución normal, lo que sugiere la presencia de outliers.\n",
    "En resumen, los datos de la columna \"Edad\" están sesgados hacia la derecha y tienen una mayor cantidad de valores extremos.\n",
    "## 6. Visualización de Datos\n",
    "### Gráficos\n",
    "Se incluyen gráficos para analizar la distribución y variabilidad de los datos:\n",
    "- **Histograma** para visualizar la distribución de frecuencias.\n"
   ]
  },
  {
   "cell_type": "code",
   "execution_count": 9,
   "id": "c3d223eb",
   "metadata": {},
   "outputs": [
    {
     "data": {
      "image/png": "[encoded data removed]",
      "text/plain": [
       "<Figure size 800x600 with 1 Axes>"
      ]
     },
     "metadata": {},
     "output_type": "display_data"
    }
   ],
   "source": [
    "# Histograma para una columna numérica (ejemplo: 'Edad')\n",
    "if 'Edad' in df.columns:\n",
    "    plt.figure(figsize=(8, 6))\n",
    "    plt.hist(df['Edad'], bins=6, color='skyblue', edgecolor='black')\n",
    "    plt.title('Distribución de Edades')\n",
    "    plt.xlabel('Edad')\n",
    "    plt.ylabel('Frecuencia')\n",
    "    plt.show()\n",
    "\n",
    "    \n",
    "else:\n",
    "    print('La columna Edad no está disponible para graficar.')"
   ]
  }
 ],
 "metadata": {
  "kernelspec": {
   "display_name": "Python 3",
   "language": "python",
   "name": "python3"
  },
  "language_info": {
   "codemirror_mode": {
    "name": "ipython",
    "version": 3
   },
   "file_extension": ".py",
   "mimetype": "text/x-python",
   "name": "python",
   "nbconvert_exporter": "python",
   "pygments_lexer": "ipython3",
   "version": "3.13.0"
  }
 },
 "nbformat": 4,
 "nbformat_minor": 5
}
