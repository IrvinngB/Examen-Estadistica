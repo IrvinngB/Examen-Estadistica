{
 "cells": [
  {
   "cell_type": "markdown",
   "id": "532c9e55",
   "metadata": {},
   "source": [
    "# Análisis de Encuesta\n",
    "\n",
    "Este notebook contiene el análisis de las respuestas obtenidas del formulario."
   ]
  },
  {
   "cell_type": "code",
   "execution_count": 31,
   "id": "a7ccb515",
   "metadata": {},
   "outputs": [],
   "source": [
    "import pandas as pd\n",
    "import numpy as np\n",
    "import matplotlib.pyplot as plt\n",
    "import seaborn as sns\n",
    "\n",
    "sns.set_style('whitegrid')\n",
    "sns.set_palette('viridis')\n",
    "\n",
    "# Cargar los datos\n",
    "file_path = 'Respuestas.xlsx'\n",
    "sheet_name = 'Respuestas de formulario 1'\n",
    "df = pd.read_excel(file_path, sheet_name=sheet_name)\n"
   ]
  },
  {
   "cell_type": "markdown",
   "id": "555490dc",
   "metadata": {},
   "source": [
    "## Sección 1\n",
    "### Problema 1: Clasificación por género"
   ]
  },
  {
   "cell_type": "code",
   "execution_count": 32,
   "id": "2bb476f1",
   "metadata": {},
   "outputs": [
    {
     "name": "stdout",
     "output_type": "stream",
     "text": [
      "Frecuencia por género:\n",
      "Genero\n",
      "Hombre    22\n",
      "Mujer      8\n",
      "Name: count, dtype: int64\n",
      "\n",
      "Porcentajes por género:\n",
      "Genero\n",
      "Hombre    73.333333\n",
      "Mujer     26.666667\n",
      "Name: count, dtype: float64\n"
     ]
    }
   ],
   "source": [
    "\n",
    "# Clasificar respuestas por género\n",
    "genero_counts = df['Genero'].value_counts()\n",
    "genero_porcentaje = (genero_counts / genero_counts.sum()) * 100\n",
    "\n",
    "# Mostrar resultados\n",
    "print(\"Frecuencia por género:\")\n",
    "print(genero_counts)\n",
    "print(\"\\nPorcentajes por género:\")\n",
    "print(genero_porcentaje)\n"
   ]
  },
  {
   "cell_type": "markdown",
   "id": "daa17cba",
   "metadata": {},
   "source": [
    "### Problema 2: Tabla de frecuencias agrupadas para edades"
   ]
  },
  {
   "cell_type": "code",
   "execution_count": 34,
   "id": "e4a2cc30",
   "metadata": {},
   "outputs": [
    {
     "data": {
      "text/html": [
       "<style type=\"text/css\">\n",
       "#T_981b0 thead th {\n",
       "  background-color: #4CAF50;\n",
       "  color: white;\n",
       "  font-weight: bold;\n",
       "}\n",
       "#T_981b0 tbody tr {\n",
       "  text-align: center;\n",
       "}\n",
       "</style>\n",
       "<table id=\"T_981b0\">\n",
       "  <caption>Tabla de Frecuencias</caption>\n",
       "  <thead>\n",
       "    <tr>\n",
       "      <th class=\"blank level0\" >&nbsp;</th>\n",
       "      <th id=\"T_981b0_level0_col0\" class=\"col_heading level0 col0\" >LI (Límite Inferior)</th>\n",
       "      <th id=\"T_981b0_level0_col1\" class=\"col_heading level0 col1\" >LS (Límite Superior)</th>\n",
       "      <th id=\"T_981b0_level0_col2\" class=\"col_heading level0 col2\" >xi (Punto Medio)</th>\n",
       "      <th id=\"T_981b0_level0_col3\" class=\"col_heading level0 col3\" >Frecuencia Absoluta</th>\n",
       "      <th id=\"T_981b0_level0_col4\" class=\"col_heading level0 col4\" >Frecuencia Relativa</th>\n",
       "      <th id=\"T_981b0_level0_col5\" class=\"col_heading level0 col5\" >%</th>\n",
       "    </tr>\n",
       "  </thead>\n",
       "  <tbody>\n",
       "    <tr>\n",
       "      <th id=\"T_981b0_level0_row0\" class=\"row_heading level0 row0\" >0</th>\n",
       "      <td id=\"T_981b0_row0_col0\" class=\"data row0 col0\" >15</td>\n",
       "      <td id=\"T_981b0_row0_col1\" class=\"data row0 col1\" >20</td>\n",
       "      <td id=\"T_981b0_row0_col2\" class=\"data row0 col2\" >17.500000</td>\n",
       "      <td id=\"T_981b0_row0_col3\" class=\"data row0 col3\" >5</td>\n",
       "      <td id=\"T_981b0_row0_col4\" class=\"data row0 col4\" >0.170000</td>\n",
       "      <td id=\"T_981b0_row0_col5\" class=\"data row0 col5\" >16.700000</td>\n",
       "    </tr>\n",
       "    <tr>\n",
       "      <th id=\"T_981b0_level0_row1\" class=\"row_heading level0 row1\" >1</th>\n",
       "      <td id=\"T_981b0_row1_col0\" class=\"data row1 col0\" >20</td>\n",
       "      <td id=\"T_981b0_row1_col1\" class=\"data row1 col1\" >25</td>\n",
       "      <td id=\"T_981b0_row1_col2\" class=\"data row1 col2\" >22.500000</td>\n",
       "      <td id=\"T_981b0_row1_col3\" class=\"data row1 col3\" >13</td>\n",
       "      <td id=\"T_981b0_row1_col4\" class=\"data row1 col4\" >0.430000</td>\n",
       "      <td id=\"T_981b0_row1_col5\" class=\"data row1 col5\" >43.300000</td>\n",
       "    </tr>\n",
       "    <tr>\n",
       "      <th id=\"T_981b0_level0_row2\" class=\"row_heading level0 row2\" >2</th>\n",
       "      <td id=\"T_981b0_row2_col0\" class=\"data row2 col0\" >25</td>\n",
       "      <td id=\"T_981b0_row2_col1\" class=\"data row2 col1\" >30</td>\n",
       "      <td id=\"T_981b0_row2_col2\" class=\"data row2 col2\" >27.500000</td>\n",
       "      <td id=\"T_981b0_row2_col3\" class=\"data row2 col3\" >7</td>\n",
       "      <td id=\"T_981b0_row2_col4\" class=\"data row2 col4\" >0.230000</td>\n",
       "      <td id=\"T_981b0_row2_col5\" class=\"data row2 col5\" >23.300000</td>\n",
       "    </tr>\n",
       "    <tr>\n",
       "      <th id=\"T_981b0_level0_row3\" class=\"row_heading level0 row3\" >3</th>\n",
       "      <td id=\"T_981b0_row3_col0\" class=\"data row3 col0\" >30</td>\n",
       "      <td id=\"T_981b0_row3_col1\" class=\"data row3 col1\" >35</td>\n",
       "      <td id=\"T_981b0_row3_col2\" class=\"data row3 col2\" >32.500000</td>\n",
       "      <td id=\"T_981b0_row3_col3\" class=\"data row3 col3\" >3</td>\n",
       "      <td id=\"T_981b0_row3_col4\" class=\"data row3 col4\" >0.100000</td>\n",
       "      <td id=\"T_981b0_row3_col5\" class=\"data row3 col5\" >10.000000</td>\n",
       "    </tr>\n",
       "    <tr>\n",
       "      <th id=\"T_981b0_level0_row4\" class=\"row_heading level0 row4\" >4</th>\n",
       "      <td id=\"T_981b0_row4_col0\" class=\"data row4 col0\" >35</td>\n",
       "      <td id=\"T_981b0_row4_col1\" class=\"data row4 col1\" >40</td>\n",
       "      <td id=\"T_981b0_row4_col2\" class=\"data row4 col2\" >37.500000</td>\n",
       "      <td id=\"T_981b0_row4_col3\" class=\"data row4 col3\" >1</td>\n",
       "      <td id=\"T_981b0_row4_col4\" class=\"data row4 col4\" >0.030000</td>\n",
       "      <td id=\"T_981b0_row4_col5\" class=\"data row4 col5\" >3.300000</td>\n",
       "    </tr>\n",
       "    <tr>\n",
       "      <th id=\"T_981b0_level0_row5\" class=\"row_heading level0 row5\" >5</th>\n",
       "      <td id=\"T_981b0_row5_col0\" class=\"data row5 col0\" >40</td>\n",
       "      <td id=\"T_981b0_row5_col1\" class=\"data row5 col1\" >45</td>\n",
       "      <td id=\"T_981b0_row5_col2\" class=\"data row5 col2\" >42.500000</td>\n",
       "      <td id=\"T_981b0_row5_col3\" class=\"data row5 col3\" >1</td>\n",
       "      <td id=\"T_981b0_row5_col4\" class=\"data row5 col4\" >0.030000</td>\n",
       "      <td id=\"T_981b0_row5_col5\" class=\"data row5 col5\" >3.300000</td>\n",
       "    </tr>\n",
       "    <tr>\n",
       "      <th id=\"T_981b0_level0_row6\" class=\"row_heading level0 row6\" >6</th>\n",
       "      <td id=\"T_981b0_row6_col0\" class=\"data row6 col0\" >Total</td>\n",
       "      <td id=\"T_981b0_row6_col1\" class=\"data row6 col1\" ></td>\n",
       "      <td id=\"T_981b0_row6_col2\" class=\"data row6 col2\" ></td>\n",
       "      <td id=\"T_981b0_row6_col3\" class=\"data row6 col3\" >30</td>\n",
       "      <td id=\"T_981b0_row6_col4\" class=\"data row6 col4\" >1.000000</td>\n",
       "      <td id=\"T_981b0_row6_col5\" class=\"data row6 col5\" >100.000000</td>\n",
       "    </tr>\n",
       "  </tbody>\n",
       "</table>\n"
      ],
      "text/plain": [
       "<pandas.io.formats.style.Styler at 0x2392eae91d0>"
      ]
     },
     "execution_count": 34,
     "metadata": {},
     "output_type": "execute_result"
    }
   ],
   "source": [
    "import pandas as pd\n",
    "import matplotlib.pyplot as plt\n",
    "\n",
    "# Cargar el archivo Excel\n",
    "ruta_excel = 'Respuestas.xlsx'  # Cambia esta ruta si el archivo no está en el mismo directorio\n",
    "datos = pd.read_excel(ruta_excel)\n",
    "\n",
    "# Filtrar solo la columna de edad\n",
    "edades = datos[\"Edad\"]\n",
    "\n",
    "# Crear intervalos de clase con una amplitud de 5 años\n",
    "rango_min = edades.min()\n",
    "rango_max = edades.max()\n",
    "amplitud = 5\n",
    "\n",
    "intervalos = pd.interval_range(\n",
    "    start=rango_min - (rango_min % amplitud), \n",
    "    end=rango_max + amplitud, \n",
    "    freq=amplitud, \n",
    "    closed='left'\n",
    ")\n",
    "\n",
    "# Calcular frecuencias\n",
    "frecuencias = pd.cut(edades, bins=intervalos).value_counts(sort=False)\n",
    "\n",
    "# Obtener límites e información\n",
    "limites_inferiores = [interval.left for interval in frecuencias.index.categories]\n",
    "limites_superiores = [interval.right for interval in frecuencias.index.categories]\n",
    "puntos_medios = [(li + ls) / 2 for li, ls in zip(limites_inferiores, limites_superiores)]\n",
    "frecuencia_absoluta = frecuencias.values\n",
    "frecuencia_relativa = frecuencia_absoluta / sum(frecuencia_absoluta)\n",
    "porcentajes = frecuencia_relativa * 100\n",
    "\n",
    "# Crear la tabla\n",
    "tabla_frecuencias = pd.DataFrame({\n",
    "    \"LI (Límite Inferior)\": limites_inferiores,\n",
    "    \"LS (Límite Superior)\": limites_superiores,\n",
    "    \"xi (Punto Medio)\": puntos_medios,\n",
    "    \"Frecuencia Absoluta\": frecuencia_absoluta,\n",
    "    \"Frecuencia Relativa\": frecuencia_relativa.round(2),\n",
    "    \"%\": porcentajes.round(1)\n",
    "})\n",
    "\n",
    "# Agregar totales\n",
    "fila_total = {\n",
    "    \"LI (Límite Inferior)\": \"Total\",\n",
    "    \"LS (Límite Superior)\": \"\",\n",
    "    \"xi (Punto Medio)\": \"\",\n",
    "    \"Frecuencia Absoluta\": sum(frecuencia_absoluta),\n",
    "    \"Frecuencia Relativa\": sum(frecuencia_relativa).round(2),\n",
    "    \"%\": porcentajes.sum().round(1)\n",
    "}\n",
    "tabla_frecuencias = pd.concat([tabla_frecuencias, pd.DataFrame([fila_total])], ignore_index=True)\n",
    "\n",
    "# Mostrar la tabla con estilo Excel\n",
    "tabla_frecuencias.style.set_table_styles([\n",
    "    {'selector': 'thead th', 'props': [('background-color', '#4CAF50'), ('color', 'white'), ('font-weight', 'bold')]},\n",
    "    {'selector': 'tbody tr', 'props': [('text-align', 'center')]}\n",
    "]).set_caption(\"Tabla de Frecuencias\")\n"
   ]
  },
  {
   "cell_type": "markdown",
   "id": "fbfa4479",
   "metadata": {},
   "source": [
    "## Sección 2\n",
    "### Problema 1: Gráfico circular sobre aplicaciones de Blockchain"
   ]
  },
  {
   "cell_type": "code",
   "execution_count": null,
   "id": "5ef8295e",
   "metadata": {},
   "outputs": [
    {
     "data": {
      "image/png": "[encoded data removed]",
      "text/plain": [
       "<Figure size 640x480 with 1 Axes>"
      ]
     },
     "metadata": {},
     "output_type": "display_data"
    }
   ],
   "source": [
    "\n",
    "\n",
    "# Gráfico circular para '¿Conoces las aplicaciones de Blockchain?'\n",
    "respuestas = df['¿Conoces las aplicaciones de Blockchain en sistemas computacionales? '].value_counts()\n",
    "respuestas.plot(kind='pie', autopct='%1.1f%%', startangle=90)\n",
    "plt.title(\"Conocimiento de aplicaciones de Blockchain\")\n",
    "plt.ylabel(\"\")\n",
    "plt.show()\n"
   ]
  },
  {
   "cell_type": "markdown",
   "id": "205cca5f",
   "metadata": {},
   "source": [
    "### Problema 2: Media, mediana y moda de las edades"
   ]
  },
  {
   "cell_type": "code",
   "execution_count": null,
   "id": "d3a787c0",
   "metadata": {},
   "outputs": [
    {
     "name": "stdout",
     "output_type": "stream",
     "text": [
      "Media: 24.37\n",
      "Mediana: 22.0\n",
      "Moda: 20\n"
     ]
    }
   ],
   "source": [
    "\n",
    "# Calcular medidas de tendencia central\n",
    "media_edad = df['Edad'].mean()\n",
    "mediana_edad = df['Edad'].median()\n",
    "moda_edad = df['Edad'].mode()[0]\n",
    "\n",
    "# Mostrar resultados\n",
    "print(f\"Media: {media_edad:.2f}\")\n",
    "print(f\"Mediana: {mediana_edad}\")\n",
    "print(f\"Moda: {moda_edad}\")\n"
   ]
  },
  {
   "cell_type": "markdown",
   "id": "27cbb01e",
   "metadata": {},
   "source": [
    "## Sección 3\n",
    "### Problema 1: Desviación estándar de las edades"
   ]
  },
  {
   "cell_type": "code",
   "execution_count": null,
   "id": "e0371936",
   "metadata": {},
   "outputs": [
    {
     "name": "stdout",
     "output_type": "stream",
     "text": [
      "Desviación estándar: 5.72\n"
     ]
    }
   ],
   "source": [
    "# Calcular desviación estándar\n",
    "desviacion_edad = df['Edad'].std().round(3)\n",
    "print(f\"Desviación estándar: {desviacion_edad}\")\n"
   ]
  },
  {
   "cell_type": "markdown",
   "id": "bf37046c",
   "metadata": {},
   "source": [
    "### Problema 2: Rango de edades"
   ]
  },
  {
   "cell_type": "code",
   "execution_count": null,
   "id": "9fbbf8e8",
   "metadata": {},
   "outputs": [
    {
     "name": "stdout",
     "output_type": "stream",
     "text": [
      "Rango de edades: 23\n"
     ]
    }
   ],
   "source": [
    "\n",
    "# Calcular rango\n",
    "rango_edad = df['Edad'].max() - df['Edad'].min()\n",
    "print(f\"Rango de edades: {rango_edad}\")\n"
   ]
  },
  {
   "cell_type": "markdown",
   "id": "3684b787",
   "metadata": {},
   "source": [
    "## Sección 4\n",
    "### Problema 1: Coeficiente de asimetría de las edades"
   ]
  },
  {
   "cell_type": "code",
   "execution_count": null,
   "id": "7a3d2e28",
   "metadata": {},
   "outputs": [
    {
     "name": "stdout",
     "output_type": "stream",
     "text": [
      "Asimetría: 1.31\n"
     ]
    }
   ],
   "source": [
    "# Calcular asimetría\n",
    "asimetria = df['Edad'].skew()\n",
    "print(f\"Asimetría: {asimetria:.2f}\")\n"
   ]
  },
  {
   "cell_type": "markdown",
   "id": "5d4f46d9",
   "metadata": {},
   "source": [
    "### Problema 2: Coeficiente de curtosis de las edades"
   ]
  },
  {
   "cell_type": "code",
   "execution_count": null,
   "id": "a32cabfe",
   "metadata": {},
   "outputs": [
    {
     "name": "stdout",
     "output_type": "stream",
     "text": [
      "Curtosis: 1.65\n"
     ]
    }
   ],
   "source": [
    "# Calcular curtosis\n",
    "curtosis = df['Edad'].kurtosis()\n",
    "print(f\"Curtosis: {curtosis:.2f}\")\n"
   ]
  },
  {
   "cell_type": "markdown",
   "id": "ef473171",
   "metadata": {},
   "source": [
    "### Problema 3: Varianza en respuestas de actualización tecnológica"
   ]
  },
  {
   "cell_type": "code",
   "execution_count": null,
   "id": "a8f50142",
   "metadata": {},
   "outputs": [
    {
     "name": "stdout",
     "output_type": "stream",
     "text": [
      "Varianza: 0.190\n"
     ]
    }
   ],
   "source": [
    "# Mapear valores de texto a valores numéricos\n",
    "df['Actualizacion_Numerica'] = df['¿Qué tan actualizado(a) te consideras en las nuevas tecnologías de sistemas computacionales? '].map(actualizacion_mapping)\n",
    "\n",
    "# Calcular varianza\n",
    "varianza_actualizacion = df['Actualizacion_Numerica'].var()\n",
    "print(f\"Varianza: {varianza_actualizacion:.3f}\")\n"
   ]
  }
 ],
 "metadata": {
  "kernelspec": {
   "display_name": "Python 3",
   "language": "python",
   "name": "python3"
  },
  "language_info": {
   "codemirror_mode": {
    "name": "ipython",
    "version": 3
   },
   "file_extension": ".py",
   "mimetype": "text/x-python",
   "name": "python",
   "nbconvert_exporter": "python",
   "pygments_lexer": "ipython3",
   "version": "3.13.0"
  }
 },
 "nbformat": 4,
 "nbformat_minor": 5
}
