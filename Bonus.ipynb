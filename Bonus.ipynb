{
 "cells": [
  {
   "cell_type": "code",
   "execution_count": 23,
   "id": "a9df3e96",
   "metadata": {},
   "outputs": [],
   "source": [
    "\n",
    "# Importar librerías necesarias\n",
    "import pandas as pd\n",
    "import numpy as np\n",
    "import matplotlib.pyplot as plt\n",
    "from scipy.stats import chi2_contingency\n",
    "from scipy.stats import pearsonr\n",
    "from sklearn.linear_model import LinearRegression\n",
    "\n",
    "# Cargar los datos\n",
    "file_path = 'Respuestas.xlsx'\n",
    "sheet_name = 'Respuestas de formulario 1'\n",
    "df = pd.read_excel(file_path, sheet_name=sheet_name)\n",
    "\n",
    "# Convertir columnas relevantes a datos numéricos\n",
    "conversion_dict = {\n",
    "    'Nada': 1,\n",
    "    'Básico': 2,\n",
    "    'Intermedio': 3,\n",
    "    'Avanzado': 4,\n",
    "    'Experto': 5\n",
    "}\n",
    "\n",
    "df['Nivel_IA'] = df['¿Cuál es tu nivel de conocimiento sobre Inteligencia Artificial (IA)? '].map(conversion_dict)\n",
    "\n",
    "\n",
    "\n",
    "df['Edad'] = pd.to_numeric(df['Edad'], errors='coerce')  # Asegurar que Edad sea numérica\n",
    "df = df.dropna(subset=['Edad', 'Nivel_IA'])  # Eliminar filas con datos faltantes\n"
   ]
  },
  {
   "cell_type": "markdown",
   "id": "c4ef936d",
   "metadata": {},
   "source": [
    "## Sección 1: Tabla de Contingencia"
   ]
  },
  {
   "cell_type": "markdown",
   "id": "ad48d7e9",
   "metadata": {},
   "source": [
    "\n",
    "### Problema 1: Crear una tabla de contingencia\n",
    "Genera una tabla de contingencia que cruce el género y si los participantes han utilizado criptomonedas, en relación con su nivel de conocimiento sobre Blockchain. Además, incluye los totales.\n"
   ]
  },
  {
   "cell_type": "code",
   "execution_count": 24,
   "id": "400822e9",
   "metadata": {},
   "outputs": [
    {
     "data": {
      "text/html": [
       "<style type=\"text/css\">\n",
       "#T_c85f2 thead th {\n",
       "  background-color: #333333;\n",
       "  color: white;\n",
       "}\n",
       "#T_c85f2 tbody tr:nth-child(even) {\n",
       "  background-color: #444444;\n",
       "}\n",
       "#T_c85f2 tbody tr:nth-child(odd) {\n",
       "  background-color: #555555;\n",
       "}\n",
       "#T_c85f2 tbody td {\n",
       "  border: 1px solid white;\n",
       "}\n",
       "#T_c85f2  thead th {\n",
       "  border: 1px solid white;\n",
       "}\n",
       "#T_c85f2_row0_col0, #T_c85f2_row0_col1, #T_c85f2_row0_col2, #T_c85f2_row0_col3, #T_c85f2_row0_col4, #T_c85f2_row1_col0, #T_c85f2_row1_col1, #T_c85f2_row1_col2, #T_c85f2_row1_col3, #T_c85f2_row1_col4, #T_c85f2_row2_col0, #T_c85f2_row2_col1, #T_c85f2_row2_col2, #T_c85f2_row2_col3, #T_c85f2_row2_col4, #T_c85f2_row3_col0, #T_c85f2_row3_col1, #T_c85f2_row3_col2, #T_c85f2_row3_col3, #T_c85f2_row3_col4, #T_c85f2_row4_col0, #T_c85f2_row4_col1, #T_c85f2_row4_col2, #T_c85f2_row4_col3, #T_c85f2_row4_col4 {\n",
       "  color: white;\n",
       "  border-color: white;\n",
       "}\n",
       "</style>\n",
       "<table id=\"T_c85f2\">\n",
       "  <thead>\n",
       "    <tr>\n",
       "      <th class=\"blank\" >&nbsp;</th>\n",
       "      <th class=\"index_name level0\" >¿Cuál es tu nivel de conocimiento sobre Blockchain? </th>\n",
       "      <th id=\"T_c85f2_level0_col0\" class=\"col_heading level0 col0\" >Avanzado</th>\n",
       "      <th id=\"T_c85f2_level0_col1\" class=\"col_heading level0 col1\" >Básico</th>\n",
       "      <th id=\"T_c85f2_level0_col2\" class=\"col_heading level0 col2\" >Intermedio</th>\n",
       "      <th id=\"T_c85f2_level0_col3\" class=\"col_heading level0 col3\" >Ninguno</th>\n",
       "      <th id=\"T_c85f2_level0_col4\" class=\"col_heading level0 col4\" >Total</th>\n",
       "    </tr>\n",
       "    <tr>\n",
       "      <th class=\"index_name level0\" >Genero</th>\n",
       "      <th class=\"index_name level1\" >¿Has utilizado alguna vez Criptomonedas? </th>\n",
       "      <th class=\"blank col0\" >&nbsp;</th>\n",
       "      <th class=\"blank col1\" >&nbsp;</th>\n",
       "      <th class=\"blank col2\" >&nbsp;</th>\n",
       "      <th class=\"blank col3\" >&nbsp;</th>\n",
       "      <th class=\"blank col4\" >&nbsp;</th>\n",
       "    </tr>\n",
       "  </thead>\n",
       "  <tbody>\n",
       "    <tr>\n",
       "      <th id=\"T_c85f2_level0_row0\" class=\"row_heading level0 row0\" rowspan=\"2\">Hombre</th>\n",
       "      <th id=\"T_c85f2_level1_row0\" class=\"row_heading level1 row0\" >No</th>\n",
       "      <td id=\"T_c85f2_row0_col0\" class=\"data row0 col0\" >0</td>\n",
       "      <td id=\"T_c85f2_row0_col1\" class=\"data row0 col1\" >6</td>\n",
       "      <td id=\"T_c85f2_row0_col2\" class=\"data row0 col2\" >1</td>\n",
       "      <td id=\"T_c85f2_row0_col3\" class=\"data row0 col3\" >8</td>\n",
       "      <td id=\"T_c85f2_row0_col4\" class=\"data row0 col4\" >15</td>\n",
       "    </tr>\n",
       "    <tr>\n",
       "      <th id=\"T_c85f2_level1_row1\" class=\"row_heading level1 row1\" >Sí</th>\n",
       "      <td id=\"T_c85f2_row1_col0\" class=\"data row1 col0\" >1</td>\n",
       "      <td id=\"T_c85f2_row1_col1\" class=\"data row1 col1\" >2</td>\n",
       "      <td id=\"T_c85f2_row1_col2\" class=\"data row1 col2\" >1</td>\n",
       "      <td id=\"T_c85f2_row1_col3\" class=\"data row1 col3\" >2</td>\n",
       "      <td id=\"T_c85f2_row1_col4\" class=\"data row1 col4\" >6</td>\n",
       "    </tr>\n",
       "    <tr>\n",
       "      <th id=\"T_c85f2_level0_row2\" class=\"row_heading level0 row2\" rowspan=\"2\">Mujer</th>\n",
       "      <th id=\"T_c85f2_level1_row2\" class=\"row_heading level1 row2\" >No</th>\n",
       "      <td id=\"T_c85f2_row2_col0\" class=\"data row2 col0\" >0</td>\n",
       "      <td id=\"T_c85f2_row2_col1\" class=\"data row2 col1\" >1</td>\n",
       "      <td id=\"T_c85f2_row2_col2\" class=\"data row2 col2\" >0</td>\n",
       "      <td id=\"T_c85f2_row2_col3\" class=\"data row2 col3\" >5</td>\n",
       "      <td id=\"T_c85f2_row2_col4\" class=\"data row2 col4\" >6</td>\n",
       "    </tr>\n",
       "    <tr>\n",
       "      <th id=\"T_c85f2_level1_row3\" class=\"row_heading level1 row3\" >Sí</th>\n",
       "      <td id=\"T_c85f2_row3_col0\" class=\"data row3 col0\" >0</td>\n",
       "      <td id=\"T_c85f2_row3_col1\" class=\"data row3 col1\" >0</td>\n",
       "      <td id=\"T_c85f2_row3_col2\" class=\"data row3 col2\" >0</td>\n",
       "      <td id=\"T_c85f2_row3_col3\" class=\"data row3 col3\" >1</td>\n",
       "      <td id=\"T_c85f2_row3_col4\" class=\"data row3 col4\" >1</td>\n",
       "    </tr>\n",
       "    <tr>\n",
       "      <th id=\"T_c85f2_level0_row4\" class=\"row_heading level0 row4\" >Total</th>\n",
       "      <th id=\"T_c85f2_level1_row4\" class=\"row_heading level1 row4\" ></th>\n",
       "      <td id=\"T_c85f2_row4_col0\" class=\"data row4 col0\" >1</td>\n",
       "      <td id=\"T_c85f2_row4_col1\" class=\"data row4 col1\" >9</td>\n",
       "      <td id=\"T_c85f2_row4_col2\" class=\"data row4 col2\" >2</td>\n",
       "      <td id=\"T_c85f2_row4_col3\" class=\"data row4 col3\" >16</td>\n",
       "      <td id=\"T_c85f2_row4_col4\" class=\"data row4 col4\" >28</td>\n",
       "    </tr>\n",
       "  </tbody>\n",
       "</table>\n"
      ],
      "text/plain": [
       "<pandas.io.formats.style.Styler at 0x1e9141525d0>"
      ]
     },
     "execution_count": 24,
     "metadata": {},
     "output_type": "execute_result"
    }
   ],
   "source": [
    "\n",
    "# Crear tabla de contingencia\n",
    "tabla_contingencia = pd.crosstab(\n",
    "    [df['Genero'], df['¿Has utilizado alguna vez Criptomonedas? ']],\n",
    "    df['¿Cuál es tu nivel de conocimiento sobre Blockchain? '],\n",
    "    margins=True,  # Agregar totales\n",
    "    margins_name=\"Total\"\n",
    ")\n",
    "\n",
    "\n",
    "# Aplicar estilo tipo tabla de Excel en modo oscuro\n",
    "styled_table = tabla_contingencia.style.set_table_styles(\n",
    "    [{\n",
    "        'selector': 'thead th',\n",
    "        'props': [('background-color', '#333333'), ('color', 'white')]\n",
    "    }, {\n",
    "        'selector': 'tbody tr:nth-child(even)',\n",
    "        'props': [('background-color', '#444444')]\n",
    "    }, {\n",
    "        'selector': 'tbody tr:nth-child(odd)',\n",
    "        'props': [('background-color', '#555555')]\n",
    "    }, {\n",
    "        'selector': 'tbody td, thead th',\n",
    "        'props': [('border', '1px solid white')]\n",
    "    }]\n",
    ").set_properties(**{\n",
    "    'color': 'white',\n",
    "    'border-color': 'white'\n",
    "})\n",
    "\n",
    "# Mostrar tabla con estilo\n",
    "styled_table"
   ]
  },
  {
   "cell_type": "markdown",
   "id": "3a3c1319",
   "metadata": {},
   "source": [
    "La mayoría de los participantes, en especial las mujeres, no tienen experiencia ni conocimientos significativos sobre Blockchain o criptomonedas. Sin embargo, el uso de criptomonedas en hombres parece estar correlacionado con un mayor nivel de conocimiento, lo que resalta una brecha de género que podría abordarse mediante intervenciones educativas.\n"
   ]
  },
  {
   "cell_type": "markdown",
   "id": "6bd69d77",
   "metadata": {},
   "source": [
    "## Sección 2: Porcentajes Relativos por Filas"
   ]
  },
  {
   "cell_type": "markdown",
   "id": "e6e19e92",
   "metadata": {},
   "source": [
    "\n",
    "### Problema 2: Calcular porcentajes relativos por filas\n",
    "Calcula los porcentajes relativos por filas de la tabla de contingencia anterior para analizar mejor la distribución.\n"
   ]
  },
  {
   "cell_type": "code",
   "execution_count": 25,
   "id": "2de945e5",
   "metadata": {},
   "outputs": [
    {
     "data": {
      "text/html": [
       "<style type=\"text/css\">\n",
       "#T_420ad thead th {\n",
       "  background-color: #333333;\n",
       "  color: white;\n",
       "}\n",
       "#T_420ad tbody tr:nth-child(even) {\n",
       "  background-color: #444444;\n",
       "}\n",
       "#T_420ad tbody tr:nth-child(odd) {\n",
       "  background-color: #555555;\n",
       "}\n",
       "#T_420ad tbody td {\n",
       "  border: 1px solid white;\n",
       "}\n",
       "#T_420ad  thead th {\n",
       "  border: 1px solid white;\n",
       "}\n",
       "#T_420ad_row0_col0, #T_420ad_row0_col1, #T_420ad_row0_col2, #T_420ad_row0_col3, #T_420ad_row1_col0, #T_420ad_row1_col1, #T_420ad_row1_col2, #T_420ad_row1_col3, #T_420ad_row2_col0, #T_420ad_row2_col1, #T_420ad_row2_col2, #T_420ad_row2_col3, #T_420ad_row3_col0, #T_420ad_row3_col1, #T_420ad_row3_col2, #T_420ad_row3_col3, #T_420ad_row4_col0, #T_420ad_row4_col1, #T_420ad_row4_col2, #T_420ad_row4_col3 {\n",
       "  color: white;\n",
       "  border-color: white;\n",
       "}\n",
       "</style>\n",
       "<table id=\"T_420ad\">\n",
       "  <thead>\n",
       "    <tr>\n",
       "      <th class=\"blank\" >&nbsp;</th>\n",
       "      <th class=\"index_name level0\" >¿Cuál es tu nivel de conocimiento sobre Blockchain? </th>\n",
       "      <th id=\"T_420ad_level0_col0\" class=\"col_heading level0 col0\" >Avanzado</th>\n",
       "      <th id=\"T_420ad_level0_col1\" class=\"col_heading level0 col1\" >Básico</th>\n",
       "      <th id=\"T_420ad_level0_col2\" class=\"col_heading level0 col2\" >Intermedio</th>\n",
       "      <th id=\"T_420ad_level0_col3\" class=\"col_heading level0 col3\" >Ninguno</th>\n",
       "    </tr>\n",
       "    <tr>\n",
       "      <th class=\"index_name level0\" >Genero</th>\n",
       "      <th class=\"index_name level1\" >¿Has utilizado alguna vez Criptomonedas? </th>\n",
       "      <th class=\"blank col0\" >&nbsp;</th>\n",
       "      <th class=\"blank col1\" >&nbsp;</th>\n",
       "      <th class=\"blank col2\" >&nbsp;</th>\n",
       "      <th class=\"blank col3\" >&nbsp;</th>\n",
       "    </tr>\n",
       "  </thead>\n",
       "  <tbody>\n",
       "    <tr>\n",
       "      <th id=\"T_420ad_level0_row0\" class=\"row_heading level0 row0\" rowspan=\"2\">Hombre</th>\n",
       "      <th id=\"T_420ad_level1_row0\" class=\"row_heading level1 row0\" >No</th>\n",
       "      <td id=\"T_420ad_row0_col0\" class=\"data row0 col0\" >0.000000</td>\n",
       "      <td id=\"T_420ad_row0_col1\" class=\"data row0 col1\" >40.000000</td>\n",
       "      <td id=\"T_420ad_row0_col2\" class=\"data row0 col2\" >6.666667</td>\n",
       "      <td id=\"T_420ad_row0_col3\" class=\"data row0 col3\" >53.333333</td>\n",
       "    </tr>\n",
       "    <tr>\n",
       "      <th id=\"T_420ad_level1_row1\" class=\"row_heading level1 row1\" >Sí</th>\n",
       "      <td id=\"T_420ad_row1_col0\" class=\"data row1 col0\" >16.666667</td>\n",
       "      <td id=\"T_420ad_row1_col1\" class=\"data row1 col1\" >33.333333</td>\n",
       "      <td id=\"T_420ad_row1_col2\" class=\"data row1 col2\" >16.666667</td>\n",
       "      <td id=\"T_420ad_row1_col3\" class=\"data row1 col3\" >33.333333</td>\n",
       "    </tr>\n",
       "    <tr>\n",
       "      <th id=\"T_420ad_level0_row2\" class=\"row_heading level0 row2\" rowspan=\"2\">Mujer</th>\n",
       "      <th id=\"T_420ad_level1_row2\" class=\"row_heading level1 row2\" >No</th>\n",
       "      <td id=\"T_420ad_row2_col0\" class=\"data row2 col0\" >0.000000</td>\n",
       "      <td id=\"T_420ad_row2_col1\" class=\"data row2 col1\" >16.666667</td>\n",
       "      <td id=\"T_420ad_row2_col2\" class=\"data row2 col2\" >0.000000</td>\n",
       "      <td id=\"T_420ad_row2_col3\" class=\"data row2 col3\" >83.333333</td>\n",
       "    </tr>\n",
       "    <tr>\n",
       "      <th id=\"T_420ad_level1_row3\" class=\"row_heading level1 row3\" >Sí</th>\n",
       "      <td id=\"T_420ad_row3_col0\" class=\"data row3 col0\" >0.000000</td>\n",
       "      <td id=\"T_420ad_row3_col1\" class=\"data row3 col1\" >0.000000</td>\n",
       "      <td id=\"T_420ad_row3_col2\" class=\"data row3 col2\" >0.000000</td>\n",
       "      <td id=\"T_420ad_row3_col3\" class=\"data row3 col3\" >100.000000</td>\n",
       "    </tr>\n",
       "    <tr>\n",
       "      <th id=\"T_420ad_level0_row4\" class=\"row_heading level0 row4\" >Total</th>\n",
       "      <th id=\"T_420ad_level1_row4\" class=\"row_heading level1 row4\" ></th>\n",
       "      <td id=\"T_420ad_row4_col0\" class=\"data row4 col0\" >3.571429</td>\n",
       "      <td id=\"T_420ad_row4_col1\" class=\"data row4 col1\" >32.142857</td>\n",
       "      <td id=\"T_420ad_row4_col2\" class=\"data row4 col2\" >7.142857</td>\n",
       "      <td id=\"T_420ad_row4_col3\" class=\"data row4 col3\" >57.142857</td>\n",
       "    </tr>\n",
       "  </tbody>\n",
       "</table>\n"
      ],
      "text/plain": [
       "<pandas.io.formats.style.Styler at 0x1e914150410>"
      ]
     },
     "execution_count": 25,
     "metadata": {},
     "output_type": "execute_result"
    }
   ],
   "source": [
    "# Calcular porcentajes relativos por filas\n",
    "tabla_porcentajes_filas = pd.crosstab(\n",
    "    [df['Genero'], df['¿Has utilizado alguna vez Criptomonedas? ']],\n",
    "    df['¿Cuál es tu nivel de conocimiento sobre Blockchain? '],\n",
    "    normalize='index',\n",
    "    margins=True,\n",
    "    margins_name=\"Total\"\n",
    ") * 100\n",
    "\n",
    "# Aplicar estilo tipo tabla de Excel en modo oscuro\n",
    "styled_porcentajes_filas = tabla_porcentajes_filas.style.set_table_styles(\n",
    "    [{\n",
    "        'selector': 'thead th',\n",
    "        'props': [('background-color', '#333333'), ('color', 'white')]\n",
    "    }, {\n",
    "        'selector': 'tbody tr:nth-child(even)',\n",
    "        'props': [('background-color', '#444444')]\n",
    "    }, {\n",
    "        'selector': 'tbody tr:nth-child(odd)',\n",
    "        'props': [('background-color', '#555555')]\n",
    "    }, {\n",
    "        'selector': 'tbody td, thead th',\n",
    "        'props': [('border', '1px solid white')]\n",
    "    }]\n",
    ").set_properties(**{\n",
    "    'color': 'white',\n",
    "    'border-color': 'white'\n",
    "})\n",
    "\n",
    "# Mostrar tabla con estilo\n",
    "styled_porcentajes_filas\n"
   ]
  },
  {
   "cell_type": "markdown",
   "id": "4a99d329",
   "metadata": {},
   "source": [
    "Los porcentajes relativos refuerzan que el desconocimiento sobre Blockchain es generalizado, con una marcada diferencia de género. Esto apunta a la necesidad de programas educativos inclusivos que promuevan el aprendizaje sobre tecnologías emergentes."
   ]
  },
  {
   "cell_type": "markdown",
   "id": "ba151174",
   "metadata": {},
   "source": [
    "## Sección 3: Combinaciones y Permutaciones"
   ]
  },
  {
   "cell_type": "markdown",
   "id": "7659e8a0",
   "metadata": {},
   "source": [
    "\n",
    "### Problema 3: Cálculo de combinaciones\n",
    "De los estudiantes encuestados, ¿de cuántas maneras se pueden seleccionar 3 estudiantes interesados en IA para formar un grupo?\n"
   ]
  },
  {
   "cell_type": "code",
   "execution_count": 26,
   "id": "bb9b49c4",
   "metadata": {},
   "outputs": [
    {
     "name": "stdout",
     "output_type": "stream",
     "text": [
      "Número de maneras de seleccionar 3 estudiantes de 28 interesados en IA: 3276\n"
     ]
    }
   ],
   "source": [
    "# ---------------------------------------------------------------------\n",
    "# Problema 2: Combinaciones (Con datos representativos)\n",
    "# ---------------------------------------------------------------------\n",
    "\n",
    "# Filtrar estudiantes interesados en IA\n",
    "interesados_ia = df[df['¿Qué tan familiarizado(a) estás con los conceptos de IA? '] != 'Nada']  # Excluir \"Nada\"\n",
    "\n",
    "# Calcular el número de combinaciones para formar grupos de 3 estudiantes\n",
    "n = len(interesados_ia)\n",
    "r = 3\n",
    "\n",
    "if n >= r:\n",
    "    num_combinaciones = factorial(n) // (factorial(r) * factorial(n - r))\n",
    "    print(f\"Número de maneras de seleccionar 3 estudiantes de {n} interesados en IA: {num_combinaciones}\")\n",
    "\n",
    "    # Mostrar todas las combinaciones posibles \n",
    "    #combinaciones_lista = list(combinations(interesados_ia.index, r))\n",
    "    #print(f\"Combinaciones: {combinaciones_lista}\")\n",
    "else:\n",
    "    print(f\"No hay suficientes estudiantes interesados en IA para formar grupos de {r}. Solo hay {n}.\")"
   ]
  },
  {
   "cell_type": "markdown",
   "id": "12217fd5",
   "metadata": {},
   "source": [
    "\n",
    "El cálculo de combinaciones muestra cuántas formas diferentes hay de elegir un subconjunto sin importar el orden. Ahora realizaremos el cálculo de permutaciones.\n"
   ]
  },
  {
   "cell_type": "markdown",
   "id": "db663847",
   "metadata": {},
   "source": [
    "\n",
    "### Problema 4: Cálculo de permutaciones\n",
    "\"¿De cuántas maneras diferentes se pueden ordenar los niveles de conocimiento (Básico, Intermedio, Avanzado) en Blockchain, IA y ML para un estudiante?\"\n"
   ]
  },
  {
   "cell_type": "code",
   "execution_count": 27,
   "id": "b1011586",
   "metadata": {},
   "outputs": [
    {
     "name": "stdout",
     "output_type": "stream",
     "text": [
      "Número de maneras diferentes de ordenar los niveles de conocimiento: 6\n",
      "Permutaciones: [('Básico', 'Intermedio', 'Avanzado'), ('Básico', 'Avanzado', 'Intermedio'), ('Intermedio', 'Básico', 'Avanzado'), ('Intermedio', 'Avanzado', 'Básico'), ('Avanzado', 'Básico', 'Intermedio'), ('Avanzado', 'Intermedio', 'Básico')]\n"
     ]
    }
   ],
   "source": [
    "# Importar librerías necesarias\n",
    "from itertools import permutations, combinations\n",
    "from math import factorial\n",
    "\n",
    "# Cargar los datos de la encuesta\n",
    "import pandas as pd\n",
    "\n",
    "file_path = 'Respuestas.xlsx'\n",
    "sheet_name = 'Respuestas de formulario 1'\n",
    "\n",
    "# Leer los datos\n",
    "df = pd.read_excel(file_path, sheet_name=sheet_name)\n",
    "\n",
    "\n",
    "# Definir los niveles de conocimiento\n",
    "niveles_conocimiento = ['Básico', 'Intermedio', 'Avanzado']\n",
    "\n",
    "# Calcular el número de permutaciones\n",
    "num_permutaciones = factorial(len(niveles_conocimiento))\n",
    "print(f\"Número de maneras diferentes de ordenar los niveles de conocimiento: {num_permutaciones}\")\n",
    "\n",
    "# Mostrar todas las permutaciones posibles (opcional)\n",
    "permutaciones_lista = list(permutations(niveles_conocimiento))\n",
    "print(f\"Permutaciones: {permutaciones_lista}\")\n",
    "\n"
   ]
  },
  {
   "cell_type": "markdown",
   "id": "764cfc95",
   "metadata": {},
   "source": [
    "\n",
    "El cálculo de permutaciones muestra cuántas formas diferentes hay de ordenar un subconjunto. Continuemos con el coeficiente de correlación.\n"
   ]
  }
 ],
 "metadata": {
  "kernelspec": {
   "display_name": "Python 3",
   "language": "python",
   "name": "python3"
  },
  "language_info": {
   "codemirror_mode": {
    "name": "ipython",
    "version": 3
   },
   "file_extension": ".py",
   "mimetype": "text/x-python",
   "name": "python",
   "nbconvert_exporter": "python",
   "pygments_lexer": "ipython3",
   "version": "3.13.0"
  }
 },
 "nbformat": 4,
 "nbformat_minor": 5
}
